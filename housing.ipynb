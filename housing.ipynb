{
 "cells": [
  {
   "cell_type": "markdown",
   "metadata": {},
   "source": [
    "# Analyzing Housing Data for Wake County"
   ]
  },
  {
   "cell_type": "code",
   "execution_count": 2,
   "metadata": {},
   "outputs": [
    {
     "data": {
      "text/html": [
       "<div>\n",
       "<style scoped>\n",
       "    .dataframe tbody tr th:only-of-type {\n",
       "        vertical-align: middle;\n",
       "    }\n",
       "\n",
       "    .dataframe tbody tr th {\n",
       "        vertical-align: top;\n",
       "    }\n",
       "\n",
       "    .dataframe thead th {\n",
       "        text-align: right;\n",
       "    }\n",
       "</style>\n",
       "<table border=\"1\" class=\"dataframe\">\n",
       "  <thead>\n",
       "    <tr style=\"text-align: right;\">\n",
       "      <th></th>\n",
       "      <th>Real_Estate_Id</th>\n",
       "      <th>Deeded_Acreage</th>\n",
       "      <th>Total_Sale_Price</th>\n",
       "      <th>Total_Sale_Date</th>\n",
       "      <th>Month_Year_of_Sale</th>\n",
       "      <th>Year_of_Sale</th>\n",
       "      <th>Year_Built</th>\n",
       "      <th>Year_Remodeled</th>\n",
       "      <th>Heated_Area</th>\n",
       "      <th>Num_Stories</th>\n",
       "      <th>Design_Style</th>\n",
       "      <th>Bath</th>\n",
       "      <th>Utilities</th>\n",
       "      <th>Physical_City</th>\n",
       "      <th>Physical_Zip</th>\n",
       "    </tr>\n",
       "  </thead>\n",
       "  <tbody>\n",
       "    <tr>\n",
       "      <th>0</th>\n",
       "      <td>19</td>\n",
       "      <td>0.21</td>\n",
       "      <td>34500</td>\n",
       "      <td>1/1/1974</td>\n",
       "      <td>January 1974</td>\n",
       "      <td>1974</td>\n",
       "      <td>1964</td>\n",
       "      <td>1964</td>\n",
       "      <td>1828</td>\n",
       "      <td>One Story</td>\n",
       "      <td>Split level</td>\n",
       "      <td>2 Bath</td>\n",
       "      <td>ALL</td>\n",
       "      <td>Raleigh</td>\n",
       "      <td>27610.0</td>\n",
       "    </tr>\n",
       "    <tr>\n",
       "      <th>1</th>\n",
       "      <td>20</td>\n",
       "      <td>0.46</td>\n",
       "      <td>35500</td>\n",
       "      <td>5/18/1983</td>\n",
       "      <td>May 1983</td>\n",
       "      <td>1983</td>\n",
       "      <td>1970</td>\n",
       "      <td>1970</td>\n",
       "      <td>1240</td>\n",
       "      <td>One Story</td>\n",
       "      <td>Conventional</td>\n",
       "      <td>1 Bath</td>\n",
       "      <td>E</td>\n",
       "      <td>Raleigh</td>\n",
       "      <td>27610.0</td>\n",
       "    </tr>\n",
       "    <tr>\n",
       "      <th>2</th>\n",
       "      <td>22</td>\n",
       "      <td>0.46</td>\n",
       "      <td>37500</td>\n",
       "      <td>9/16/2004</td>\n",
       "      <td>September 2004</td>\n",
       "      <td>2004</td>\n",
       "      <td>1900</td>\n",
       "      <td>1900</td>\n",
       "      <td>2261</td>\n",
       "      <td>One Story</td>\n",
       "      <td>Conventional</td>\n",
       "      <td>2 Bath</td>\n",
       "      <td>WSE</td>\n",
       "      <td>Wendell</td>\n",
       "      <td>27591.0</td>\n",
       "    </tr>\n",
       "    <tr>\n",
       "      <th>3</th>\n",
       "      <td>25</td>\n",
       "      <td>0.96</td>\n",
       "      <td>70000</td>\n",
       "      <td>1/1/1971</td>\n",
       "      <td>January 1971</td>\n",
       "      <td>1971</td>\n",
       "      <td>1971</td>\n",
       "      <td>1971</td>\n",
       "      <td>3770</td>\n",
       "      <td>One Story</td>\n",
       "      <td>Conventional</td>\n",
       "      <td>Other</td>\n",
       "      <td>WGE</td>\n",
       "      <td>Raleigh</td>\n",
       "      <td>27613.0</td>\n",
       "    </tr>\n",
       "    <tr>\n",
       "      <th>4</th>\n",
       "      <td>30</td>\n",
       "      <td>0.47</td>\n",
       "      <td>380000</td>\n",
       "      <td>8/12/2015</td>\n",
       "      <td>August 2015</td>\n",
       "      <td>2015</td>\n",
       "      <td>1946</td>\n",
       "      <td>2017</td>\n",
       "      <td>1789</td>\n",
       "      <td>One Story</td>\n",
       "      <td>Conventional</td>\n",
       "      <td>2 Bath</td>\n",
       "      <td>ALL</td>\n",
       "      <td>Raleigh</td>\n",
       "      <td>27607.0</td>\n",
       "    </tr>\n",
       "  </tbody>\n",
       "</table>\n",
       "</div>"
      ],
      "text/plain": [
       "   Real_Estate_Id  Deeded_Acreage  Total_Sale_Price Total_Sale_Date  \\\n",
       "0              19            0.21             34500        1/1/1974   \n",
       "1              20            0.46             35500       5/18/1983   \n",
       "2              22            0.46             37500       9/16/2004   \n",
       "3              25            0.96             70000        1/1/1971   \n",
       "4              30            0.47            380000       8/12/2015   \n",
       "\n",
       "  Month_Year_of_Sale  Year_of_Sale  Year_Built  Year_Remodeled  Heated_Area  \\\n",
       "0       January 1974          1974        1964            1964         1828   \n",
       "1           May 1983          1983        1970            1970         1240   \n",
       "2     September 2004          2004        1900            1900         2261   \n",
       "3       January 1971          1971        1971            1971         3770   \n",
       "4        August 2015          2015        1946            2017         1789   \n",
       "\n",
       "  Num_Stories  Design_Style    Bath Utilities Physical_City  Physical_Zip  \n",
       "0   One Story   Split level  2 Bath       ALL       Raleigh       27610.0  \n",
       "1   One Story  Conventional  1 Bath         E       Raleigh       27610.0  \n",
       "2   One Story  Conventional  2 Bath       WSE       Wendell       27591.0  \n",
       "3   One Story  Conventional   Other       WGE       Raleigh       27613.0  \n",
       "4   One Story  Conventional  2 Bath       ALL       Raleigh       27607.0  "
      ]
     },
     "execution_count": 2,
     "metadata": {},
     "output_type": "execute_result"
    }
   ],
   "source": [
    "import pandas as pd\n",
    "import numpy as np\n",
    "import matplotlib.pyplot as plt\n",
    "\n",
    "# Read in the data from csv\n",
    "data = pd.read_csv(\"data/WakeCountyHousing.csv\")\n",
    "\n",
    "# Look at a little bit of it (looks good)\n",
    "data.head()"
   ]
  },
  {
   "cell_type": "code",
   "execution_count": 3,
   "metadata": {},
   "outputs": [
    {
     "name": "stdout",
     "output_type": "stream",
     "text": [
      "<class 'pandas.core.frame.DataFrame'>\n",
      "RangeIndex: 308292 entries, 0 to 308291\n",
      "Data columns (total 15 columns):\n",
      " #   Column              Non-Null Count   Dtype  \n",
      "---  ------              --------------   -----  \n",
      " 0   Real_Estate_Id      308292 non-null  int64  \n",
      " 1   Deeded_Acreage      308292 non-null  float64\n",
      " 2   Total_Sale_Price    308292 non-null  int64  \n",
      " 3   Total_Sale_Date     308292 non-null  object \n",
      " 4   Month_Year_of_Sale  308292 non-null  object \n",
      " 5   Year_of_Sale        308292 non-null  int64  \n",
      " 6   Year_Built          308292 non-null  int64  \n",
      " 7   Year_Remodeled      308292 non-null  int64  \n",
      " 8   Heated_Area         308292 non-null  int64  \n",
      " 9   Num_Stories         308292 non-null  object \n",
      " 10  Design_Style        308292 non-null  object \n",
      " 11  Bath                308275 non-null  object \n",
      " 12  Utilities           306324 non-null  object \n",
      " 13  Physical_City       308183 non-null  object \n",
      " 14  Physical_Zip        308146 non-null  float64\n",
      "dtypes: float64(2), int64(6), object(7)\n",
      "memory usage: 35.3+ MB\n"
     ]
    }
   ],
   "source": [
    "# Look at some information\n",
    "data.info()"
   ]
  },
  {
   "cell_type": "markdown",
   "metadata": {},
   "source": [
    "## Cleaning the Data\n",
    "In order to clean data, I remove rows that are empty in those areas."
   ]
  },
  {
   "cell_type": "code",
   "execution_count": 4,
   "metadata": {},
   "outputs": [
    {
     "name": "stdout",
     "output_type": "stream",
     "text": [
      "<class 'pandas.core.frame.DataFrame'>\n",
      "Int64Index: 306161 entries, 0 to 308291\n",
      "Data columns (total 15 columns):\n",
      " #   Column              Non-Null Count   Dtype  \n",
      "---  ------              --------------   -----  \n",
      " 0   Real_Estate_Id      306161 non-null  int64  \n",
      " 1   Deeded_Acreage      306161 non-null  float64\n",
      " 2   Total_Sale_Price    306161 non-null  int64  \n",
      " 3   Total_Sale_Date     306161 non-null  object \n",
      " 4   Month_Year_of_Sale  306161 non-null  object \n",
      " 5   Year_of_Sale        306161 non-null  int64  \n",
      " 6   Year_Built          306161 non-null  int64  \n",
      " 7   Year_Remodeled      306161 non-null  int64  \n",
      " 8   Heated_Area         306161 non-null  int64  \n",
      " 9   Num_Stories         306161 non-null  object \n",
      " 10  Design_Style        306161 non-null  object \n",
      " 11  Bath                306161 non-null  object \n",
      " 12  Utilities           306161 non-null  object \n",
      " 13  Physical_City       306161 non-null  object \n",
      " 14  Physical_Zip        306161 non-null  float64\n",
      "dtypes: float64(2), int64(6), object(7)\n",
      "memory usage: 37.4+ MB\n"
     ]
    }
   ],
   "source": [
    "data.dropna(subset=[\"Bath\", \"Utilities\", \"Physical_City\", \"Physical_Zip\"], inplace=True) \n",
    "\n",
    "data.info()"
   ]
  },
  {
   "cell_type": "markdown",
   "metadata": {},
   "source": [
    "## One-Hot Encoding\n",
    "In order to use categorical data (like Design Style), I will One-Hot Encode it."
   ]
  },
  {
   "cell_type": "code",
   "execution_count": 5,
   "metadata": {},
   "outputs": [
    {
     "data": {
      "text/plain": [
       "Design_Style\n",
       "Conventional    230881\n",
       "Townhouse        46347\n",
       "Condo            11276\n",
       "Ranch             7448\n",
       "Split level       7095\n",
       "Split Foyer       2152\n",
       "Contemporary       634\n",
       "Modular            198\n",
       "Log                 79\n",
       "Colonial            30\n",
       "Cape                 8\n",
       "Conversion           6\n",
       "Duplex               4\n",
       "Manuf Multi          3\n",
       "dtype: int64"
      ]
     },
     "execution_count": 5,
     "metadata": {},
     "output_type": "execute_result"
    }
   ],
   "source": [
    "design_style = data[[\"Design_Style\"]]   \n",
    "design_style.value_counts()"
   ]
  },
  {
   "cell_type": "code",
   "execution_count": 6,
   "metadata": {},
   "outputs": [
    {
     "data": {
      "text/plain": [
       "array([[0., 0., 0., ..., 0., 1., 0.],\n",
       "       [0., 0., 0., ..., 0., 0., 0.],\n",
       "       [0., 0., 0., ..., 0., 0., 0.],\n",
       "       ...,\n",
       "       [0., 0., 0., ..., 0., 0., 0.],\n",
       "       [0., 0., 0., ..., 0., 0., 0.],\n",
       "       [0., 0., 0., ..., 0., 0., 0.]])"
      ]
     },
     "execution_count": 6,
     "metadata": {},
     "output_type": "execute_result"
    }
   ],
   "source": [
    "from sklearn.preprocessing import OneHotEncoder\n",
    "\n",
    "one_hot = OneHotEncoder()\n",
    "design_style_one_hot = one_hot.fit_transform(design_style)\n",
    "\n",
    "# Let's turn it into an array using the toarray() method\n",
    "\n",
    "design_style_one_hot.toarray()"
   ]
  },
  {
   "cell_type": "markdown",
   "metadata": {},
   "source": [
    "## Custom Transformer\n",
    "In order to create new attributes, we use a custom transformer."
   ]
  },
  {
   "cell_type": "code",
   "execution_count": 7,
   "metadata": {},
   "outputs": [],
   "source": [
    "# Adding Price per Acre\n",
    "from sklearn.base import BaseEstimator, TransformerMixin\n",
    "\n",
    "TotalAcresIndex, TotalPriceIndex = 1, 2\n",
    "\n",
    "class addCombinedAttr(BaseEstimator, TransformerMixin):\n",
    "    def __init__(self, add_price_per_room=True):\n",
    "        self.add_price_per_room = add_price_per_room\n",
    "    \n",
    "    def fit(self, X, y=None):\n",
    "        return self\n",
    "\n",
    "    def transform(self, data):\n",
    "        price_per_acre = data.iloc[:, TotalPriceIndex] / data.iloc[:, TotalAcresIndex]\n",
    "        if self.add_price_per_room:\n",
    "            return np.c_[price_per_acre]"
   ]
  },
  {
   "cell_type": "code",
   "execution_count": 8,
   "metadata": {},
   "outputs": [
    {
     "data": {
      "text/html": [
       "<div>\n",
       "<style scoped>\n",
       "    .dataframe tbody tr th:only-of-type {\n",
       "        vertical-align: middle;\n",
       "    }\n",
       "\n",
       "    .dataframe tbody tr th {\n",
       "        vertical-align: top;\n",
       "    }\n",
       "\n",
       "    .dataframe thead th {\n",
       "        text-align: right;\n",
       "    }\n",
       "</style>\n",
       "<table border=\"1\" class=\"dataframe\">\n",
       "  <thead>\n",
       "    <tr style=\"text-align: right;\">\n",
       "      <th></th>\n",
       "      <th>Real_Estate_Id</th>\n",
       "      <th>Deeded_Acreage</th>\n",
       "      <th>Total_Sale_Price</th>\n",
       "      <th>Total_Sale_Date</th>\n",
       "      <th>Month_Year_of_Sale</th>\n",
       "      <th>Year_of_Sale</th>\n",
       "      <th>Year_Built</th>\n",
       "      <th>Year_Remodeled</th>\n",
       "      <th>Heated_Area</th>\n",
       "      <th>Num_Stories</th>\n",
       "      <th>Design_Style</th>\n",
       "      <th>Bath</th>\n",
       "      <th>Utilities</th>\n",
       "      <th>Physical_City</th>\n",
       "      <th>Physical_Zip</th>\n",
       "      <th>Price_Per_Acre</th>\n",
       "    </tr>\n",
       "  </thead>\n",
       "  <tbody>\n",
       "    <tr>\n",
       "      <th>0</th>\n",
       "      <td>19</td>\n",
       "      <td>0.21</td>\n",
       "      <td>34500</td>\n",
       "      <td>1/1/1974</td>\n",
       "      <td>January 1974</td>\n",
       "      <td>1974</td>\n",
       "      <td>1964</td>\n",
       "      <td>1964</td>\n",
       "      <td>1828</td>\n",
       "      <td>One Story</td>\n",
       "      <td>Split level</td>\n",
       "      <td>2 Bath</td>\n",
       "      <td>ALL</td>\n",
       "      <td>Raleigh</td>\n",
       "      <td>27610.0</td>\n",
       "      <td>164285.714286</td>\n",
       "    </tr>\n",
       "    <tr>\n",
       "      <th>1</th>\n",
       "      <td>20</td>\n",
       "      <td>0.46</td>\n",
       "      <td>35500</td>\n",
       "      <td>5/18/1983</td>\n",
       "      <td>May 1983</td>\n",
       "      <td>1983</td>\n",
       "      <td>1970</td>\n",
       "      <td>1970</td>\n",
       "      <td>1240</td>\n",
       "      <td>One Story</td>\n",
       "      <td>Conventional</td>\n",
       "      <td>1 Bath</td>\n",
       "      <td>E</td>\n",
       "      <td>Raleigh</td>\n",
       "      <td>27610.0</td>\n",
       "      <td>77173.913043</td>\n",
       "    </tr>\n",
       "    <tr>\n",
       "      <th>2</th>\n",
       "      <td>22</td>\n",
       "      <td>0.46</td>\n",
       "      <td>37500</td>\n",
       "      <td>9/16/2004</td>\n",
       "      <td>September 2004</td>\n",
       "      <td>2004</td>\n",
       "      <td>1900</td>\n",
       "      <td>1900</td>\n",
       "      <td>2261</td>\n",
       "      <td>One Story</td>\n",
       "      <td>Conventional</td>\n",
       "      <td>2 Bath</td>\n",
       "      <td>WSE</td>\n",
       "      <td>Wendell</td>\n",
       "      <td>27591.0</td>\n",
       "      <td>81521.739130</td>\n",
       "    </tr>\n",
       "    <tr>\n",
       "      <th>3</th>\n",
       "      <td>25</td>\n",
       "      <td>0.96</td>\n",
       "      <td>70000</td>\n",
       "      <td>1/1/1971</td>\n",
       "      <td>January 1971</td>\n",
       "      <td>1971</td>\n",
       "      <td>1971</td>\n",
       "      <td>1971</td>\n",
       "      <td>3770</td>\n",
       "      <td>One Story</td>\n",
       "      <td>Conventional</td>\n",
       "      <td>Other</td>\n",
       "      <td>WGE</td>\n",
       "      <td>Raleigh</td>\n",
       "      <td>27613.0</td>\n",
       "      <td>72916.666667</td>\n",
       "    </tr>\n",
       "    <tr>\n",
       "      <th>4</th>\n",
       "      <td>30</td>\n",
       "      <td>0.47</td>\n",
       "      <td>380000</td>\n",
       "      <td>8/12/2015</td>\n",
       "      <td>August 2015</td>\n",
       "      <td>2015</td>\n",
       "      <td>1946</td>\n",
       "      <td>2017</td>\n",
       "      <td>1789</td>\n",
       "      <td>One Story</td>\n",
       "      <td>Conventional</td>\n",
       "      <td>2 Bath</td>\n",
       "      <td>ALL</td>\n",
       "      <td>Raleigh</td>\n",
       "      <td>27607.0</td>\n",
       "      <td>808510.638298</td>\n",
       "    </tr>\n",
       "  </tbody>\n",
       "</table>\n",
       "</div>"
      ],
      "text/plain": [
       "   Real_Estate_Id  Deeded_Acreage  Total_Sale_Price Total_Sale_Date  \\\n",
       "0              19            0.21             34500        1/1/1974   \n",
       "1              20            0.46             35500       5/18/1983   \n",
       "2              22            0.46             37500       9/16/2004   \n",
       "3              25            0.96             70000        1/1/1971   \n",
       "4              30            0.47            380000       8/12/2015   \n",
       "\n",
       "  Month_Year_of_Sale  Year_of_Sale  Year_Built  Year_Remodeled  Heated_Area  \\\n",
       "0       January 1974          1974        1964            1964         1828   \n",
       "1           May 1983          1983        1970            1970         1240   \n",
       "2     September 2004          2004        1900            1900         2261   \n",
       "3       January 1971          1971        1971            1971         3770   \n",
       "4        August 2015          2015        1946            2017         1789   \n",
       "\n",
       "  Num_Stories  Design_Style    Bath Utilities Physical_City  Physical_Zip  \\\n",
       "0   One Story   Split level  2 Bath       ALL       Raleigh       27610.0   \n",
       "1   One Story  Conventional  1 Bath         E       Raleigh       27610.0   \n",
       "2   One Story  Conventional  2 Bath       WSE       Wendell       27591.0   \n",
       "3   One Story  Conventional   Other       WGE       Raleigh       27613.0   \n",
       "4   One Story  Conventional  2 Bath       ALL       Raleigh       27607.0   \n",
       "\n",
       "   Price_Per_Acre  \n",
       "0   164285.714286  \n",
       "1    77173.913043  \n",
       "2    81521.739130  \n",
       "3    72916.666667  \n",
       "4   808510.638298  "
      ]
     },
     "execution_count": 8,
     "metadata": {},
     "output_type": "execute_result"
    }
   ],
   "source": [
    "from sklearn.pipeline import Pipeline\n",
    "\n",
    "transform_pipe = Pipeline(steps=[\n",
    "    ('addCombinedAttr', addCombinedAttr())\n",
    "])\n",
    "\n",
    "price_per_acre_col = transform_pipe.transform(data)\n",
    "transformed_data = data\n",
    "transformed_data[\"Price_Per_Acre\"] = price_per_acre_col\n",
    "\n",
    "transformed_data.head()"
   ]
  },
  {
   "cell_type": "markdown",
   "metadata": {},
   "source": [
    "## Splitting the Data into a Train and Test Set"
   ]
  },
  {
   "cell_type": "code",
   "execution_count": 9,
   "metadata": {},
   "outputs": [
    {
     "data": {
      "text/html": [
       "<div>\n",
       "<style scoped>\n",
       "    .dataframe tbody tr th:only-of-type {\n",
       "        vertical-align: middle;\n",
       "    }\n",
       "\n",
       "    .dataframe tbody tr th {\n",
       "        vertical-align: top;\n",
       "    }\n",
       "\n",
       "    .dataframe thead th {\n",
       "        text-align: right;\n",
       "    }\n",
       "</style>\n",
       "<table border=\"1\" class=\"dataframe\">\n",
       "  <thead>\n",
       "    <tr style=\"text-align: right;\">\n",
       "      <th></th>\n",
       "      <th>Real_Estate_Id</th>\n",
       "      <th>Deeded_Acreage</th>\n",
       "      <th>Total_Sale_Price</th>\n",
       "      <th>Total_Sale_Date</th>\n",
       "      <th>Month_Year_of_Sale</th>\n",
       "      <th>Year_of_Sale</th>\n",
       "      <th>Year_Built</th>\n",
       "      <th>Year_Remodeled</th>\n",
       "      <th>Heated_Area</th>\n",
       "      <th>Num_Stories</th>\n",
       "      <th>Design_Style</th>\n",
       "      <th>Bath</th>\n",
       "      <th>Utilities</th>\n",
       "      <th>Physical_City</th>\n",
       "      <th>Physical_Zip</th>\n",
       "      <th>Price_Per_Acre</th>\n",
       "    </tr>\n",
       "  </thead>\n",
       "  <tbody>\n",
       "    <tr>\n",
       "      <th>110493</th>\n",
       "      <td>188337</td>\n",
       "      <td>1.37</td>\n",
       "      <td>265000</td>\n",
       "      <td>3/18/2013</td>\n",
       "      <td>March 2013</td>\n",
       "      <td>2013</td>\n",
       "      <td>2012</td>\n",
       "      <td>2012</td>\n",
       "      <td>3028</td>\n",
       "      <td>Other</td>\n",
       "      <td>Conventional</td>\n",
       "      <td>2½ Bath</td>\n",
       "      <td>E</td>\n",
       "      <td>Garner</td>\n",
       "      <td>27529.0</td>\n",
       "      <td>1.934307e+05</td>\n",
       "    </tr>\n",
       "    <tr>\n",
       "      <th>184191</th>\n",
       "      <td>289599</td>\n",
       "      <td>0.08</td>\n",
       "      <td>180000</td>\n",
       "      <td>11/24/2004</td>\n",
       "      <td>November 2004</td>\n",
       "      <td>2004</td>\n",
       "      <td>2003</td>\n",
       "      <td>2003</td>\n",
       "      <td>1872</td>\n",
       "      <td>Other</td>\n",
       "      <td>Townhouse</td>\n",
       "      <td>2½ Bath</td>\n",
       "      <td>ALL</td>\n",
       "      <td>Cary</td>\n",
       "      <td>27519.0</td>\n",
       "      <td>2.250000e+06</td>\n",
       "    </tr>\n",
       "    <tr>\n",
       "      <th>146943</th>\n",
       "      <td>235350</td>\n",
       "      <td>0.23</td>\n",
       "      <td>180000</td>\n",
       "      <td>6/20/2006</td>\n",
       "      <td>June 2006</td>\n",
       "      <td>2006</td>\n",
       "      <td>1997</td>\n",
       "      <td>1997</td>\n",
       "      <td>2080</td>\n",
       "      <td>Other</td>\n",
       "      <td>Conventional</td>\n",
       "      <td>2½ Bath</td>\n",
       "      <td>ALL</td>\n",
       "      <td>Holly Springs</td>\n",
       "      <td>27540.0</td>\n",
       "      <td>7.826087e+05</td>\n",
       "    </tr>\n",
       "    <tr>\n",
       "      <th>124166</th>\n",
       "      <td>206333</td>\n",
       "      <td>1.00</td>\n",
       "      <td>225000</td>\n",
       "      <td>12/29/2011</td>\n",
       "      <td>December 2011</td>\n",
       "      <td>2011</td>\n",
       "      <td>1994</td>\n",
       "      <td>1994</td>\n",
       "      <td>2324</td>\n",
       "      <td>Other</td>\n",
       "      <td>Conventional</td>\n",
       "      <td>3½ Bath</td>\n",
       "      <td>E</td>\n",
       "      <td>Wake Forest</td>\n",
       "      <td>27587.0</td>\n",
       "      <td>2.250000e+05</td>\n",
       "    </tr>\n",
       "    <tr>\n",
       "      <th>236026</th>\n",
       "      <td>352272</td>\n",
       "      <td>0.03</td>\n",
       "      <td>187500</td>\n",
       "      <td>1/31/2019</td>\n",
       "      <td>January 2019</td>\n",
       "      <td>2019</td>\n",
       "      <td>2007</td>\n",
       "      <td>2007</td>\n",
       "      <td>1328</td>\n",
       "      <td>Other</td>\n",
       "      <td>Townhouse</td>\n",
       "      <td>2½ Bath</td>\n",
       "      <td>ALL</td>\n",
       "      <td>Apex</td>\n",
       "      <td>27502.0</td>\n",
       "      <td>6.250000e+06</td>\n",
       "    </tr>\n",
       "  </tbody>\n",
       "</table>\n",
       "</div>"
      ],
      "text/plain": [
       "        Real_Estate_Id  Deeded_Acreage  Total_Sale_Price Total_Sale_Date  \\\n",
       "110493          188337            1.37            265000       3/18/2013   \n",
       "184191          289599            0.08            180000      11/24/2004   \n",
       "146943          235350            0.23            180000       6/20/2006   \n",
       "124166          206333            1.00            225000      12/29/2011   \n",
       "236026          352272            0.03            187500       1/31/2019   \n",
       "\n",
       "       Month_Year_of_Sale  Year_of_Sale  Year_Built  Year_Remodeled  \\\n",
       "110493         March 2013          2013        2012            2012   \n",
       "184191      November 2004          2004        2003            2003   \n",
       "146943          June 2006          2006        1997            1997   \n",
       "124166      December 2011          2011        1994            1994   \n",
       "236026       January 2019          2019        2007            2007   \n",
       "\n",
       "        Heated_Area Num_Stories  Design_Style     Bath Utilities  \\\n",
       "110493         3028       Other  Conventional  2½ Bath         E   \n",
       "184191         1872       Other     Townhouse  2½ Bath       ALL   \n",
       "146943         2080       Other  Conventional  2½ Bath       ALL   \n",
       "124166         2324       Other  Conventional  3½ Bath         E   \n",
       "236026         1328       Other     Townhouse  2½ Bath       ALL   \n",
       "\n",
       "        Physical_City  Physical_Zip  Price_Per_Acre  \n",
       "110493         Garner       27529.0    1.934307e+05  \n",
       "184191           Cary       27519.0    2.250000e+06  \n",
       "146943  Holly Springs       27540.0    7.826087e+05  \n",
       "124166    Wake Forest       27587.0    2.250000e+05  \n",
       "236026           Apex       27502.0    6.250000e+06  "
      ]
     },
     "execution_count": 9,
     "metadata": {},
     "output_type": "execute_result"
    }
   ],
   "source": [
    "from sklearn.model_selection import train_test_split\n",
    "\n",
    "train_set, test_set = train_test_split(data, test_size=.2, random_state=42)\n",
    "\n",
    "test_set.head()"
   ]
  },
  {
   "cell_type": "markdown",
   "metadata": {},
   "source": [
    "## Random Forest Classifier\n",
    "Predicting Design Style from Total Sale Price, Year Built, and Deeded Acreage"
   ]
  },
  {
   "cell_type": "code",
   "execution_count": 21,
   "metadata": {},
   "outputs": [],
   "source": [
    "features = data[['Deeded_Acreage', 'Total_Sale_Price', 'Year_Built']] \n",
    "labels = data['Design_Style'] \n",
    "\n",
    "# 70% training / 30% testing\n",
    "x_train, x_test, y_train, y_test = train_test_split(features, labels, test_size=0.3) \n"
   ]
  },
  {
   "cell_type": "code",
   "execution_count": 22,
   "metadata": {},
   "outputs": [
    {
     "data": {
      "text/plain": [
       "RandomForestClassifier(max_features=0.2)"
      ]
     },
     "execution_count": 22,
     "metadata": {},
     "output_type": "execute_result"
    }
   ],
   "source": [
    "from sklearn.ensemble import RandomForestClassifier\n",
    "\n",
    "rfc = RandomForestClassifier(n_estimators=100, max_features=.2)\n",
    "\n",
    "rfc.fit(x_train,y_train)"
   ]
  },
  {
   "cell_type": "code",
   "execution_count": 50,
   "metadata": {},
   "outputs": [
    {
     "name": "stdout",
     "output_type": "stream",
     "text": [
      "Accuracy: 0.912595673333406\n"
     ]
    }
   ],
   "source": [
    "from sklearn import metrics\n",
    "\n",
    "y_pred_rfc = rfc.predict(x_test)\n",
    "print(\"Accuracy:\",metrics.accuracy_score(y_test, y_pred_rfc))"
   ]
  },
  {
   "cell_type": "markdown",
   "metadata": {},
   "source": [
    "## K Neighbors Classifier\n",
    "Predicting Design Style from Total Sale Price, Year Built, and Deeded Acreage"
   ]
  },
  {
   "cell_type": "code",
   "execution_count": 51,
   "metadata": {},
   "outputs": [
    {
     "name": "stdout",
     "output_type": "stream",
     "text": [
      "Accuracy: 0.8266720378011737\n"
     ]
    }
   ],
   "source": [
    "from sklearn.neighbors import KNeighborsClassifier\n",
    "\n",
    "knn = KNeighborsClassifier(n_neighbors=3)\n",
    "\n",
    "knn.fit(x_train, y_train)\n",
    "\n",
    "y_pred_knn = knn.predict(x_test)\n",
    "\n",
    "print(\"Accuracy:\",metrics.accuracy_score(y_test, y_pred_knn))\n"
   ]
  },
  {
   "cell_type": "markdown",
   "metadata": {},
   "source": [
    "# OvO Classifier\n",
    "Predicting Design Style from Total Sale Price, Year Built, and Deeded Acreage"
   ]
  },
  {
   "cell_type": "code",
   "execution_count": 42,
   "metadata": {},
   "outputs": [
    {
     "name": "stdout",
     "output_type": "stream",
     "text": [
      "Accuracy: 0.8822415050789884\n"
     ]
    }
   ],
   "source": [
    "from sklearn.multiclass import OneVsOneClassifier\n",
    "from sklearn.linear_model import LogisticRegression\n",
    "\n",
    "\n",
    "OvO = OneVsOneClassifier(LogisticRegression())\n",
    "OvO.fit(x_train, y_train)\n",
    "\n",
    "y_pred_OvO = OvO.predict(x_test)\n",
    "\n",
    "print(\"Accuracy:\",metrics.accuracy_score(y_test, y_pred_OvO))"
   ]
  },
  {
   "cell_type": "markdown",
   "metadata": {},
   "source": [
    "## Confusion Matrix"
   ]
  },
  {
   "cell_type": "code",
   "execution_count": 55,
   "metadata": {},
   "outputs": [
    {
     "name": "stdout",
     "output_type": "stream",
     "text": [
      "[[    0     0     0     0     4     0     0     0     0     0     0     0\n",
      "      0]\n",
      " [    0     0     0     0     7     0     0     0     0     0     0     1\n",
      "      0]\n",
      " [    0     0  3429     0     7     0     0     0     0     0     0     0\n",
      "      1]\n",
      " [    0     0     0     1   204     0     0     0     0     0     1     2\n",
      "      3]\n",
      " [    0     0    25    22 66806     0     1     1     5   617   158   674\n",
      "    778]\n",
      " [    0     0     0     0     1     0     0     0     0     0     0     0\n",
      "      0]\n",
      " [    0     0     0     0    26     0     0     0     0     0     0     0\n",
      "      0]\n",
      " [    0     0     0     0     1     0     0     0     0     0     0     0\n",
      "      0]\n",
      " [    0     0     0     0    65     0     0     0     0     0     0     0\n",
      "      0]\n",
      " [    0     0     1     2  1791     0     0     0     0   287    19   197\n",
      "      2]\n",
      " [    0     0     0     0   481     0     0     0     0    29    23    81\n",
      "      1]\n",
      " [    0     1     0     0  1575     0     0     0     0   214    38   384\n",
      "      7]\n",
      " [    0     0     1     2   977     0     0     0     0     0     1     4\n",
      "  12891]]\n"
     ]
    }
   ],
   "source": [
    "from sklearn.metrics import confusion_matrix\n",
    "\n",
    "conf_matrix = confusion_matrix(y_test, y_pred_rfc)\n",
    "\n",
    "print(conf_matrix)"
   ]
  },
  {
   "cell_type": "code",
   "execution_count": 56,
   "metadata": {},
   "outputs": [
    {
     "data": {
      "image/png": "[encoded data removed]",
      "text/plain": [
       "<Figure size 432x288 with 2 Axes>"
      ]
     },
     "metadata": {
      "needs_background": "light"
     },
     "output_type": "display_data"
    }
   ],
   "source": [
    "import seaborn as sns\n",
    "import matplotlib.pyplot as plt\n",
    "\n",
    "ax = sns.heatmap(conf_matrix, annot=True, cmap='Blues')\n",
    "plt.show()"
   ]
  }
 ],
 "metadata": {
  "interpreter": {
   "hash": "949777d72b0d2535278d3dc13498b2535136f6dfe0678499012e853ee9abcab1"
  },
  "kernelspec": {
   "display_name": "Python ('myenv')",
   "language": "python",
   "name": "python3"
  },
  "language_info": {
   "codemirror_mode": {
    "name": "ipython",
    "version": 3
   },
   "file_extension": ".py",
   "mimetype": "text/x-python",
   "name": "python",
   "nbconvert_exporter": "python",
   "pygments_lexer": "ipython3",
   "version": "3.9.7"
  },
  "orig_nbformat": 4
 },
 "nbformat": 4,
 "nbformat_minor": 2
}
