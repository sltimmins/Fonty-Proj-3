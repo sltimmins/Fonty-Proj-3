{
 "cells": [
  {
   "cell_type": "markdown",
   "metadata": {},
   "source": [
    "# Analyzing Housing Data for Wake County"
   ]
  },
  {
   "cell_type": "code",
   "execution_count": 1,
   "metadata": {},
   "outputs": [
    {
     "data": {
      "text/html": [
       "<div>\n",
       "<style scoped>\n",
       "    .dataframe tbody tr th:only-of-type {\n",
       "        vertical-align: middle;\n",
       "    }\n",
       "\n",
       "    .dataframe tbody tr th {\n",
       "        vertical-align: top;\n",
       "    }\n",
       "\n",
       "    .dataframe thead th {\n",
       "        text-align: right;\n",
       "    }\n",
       "</style>\n",
       "<table border=\"1\" class=\"dataframe\">\n",
       "  <thead>\n",
       "    <tr style=\"text-align: right;\">\n",
       "      <th></th>\n",
       "      <th>Real_Estate_Id</th>\n",
       "      <th>Deeded_Acreage</th>\n",
       "      <th>Total_Sale_Price</th>\n",
       "      <th>Total_Sale_Date</th>\n",
       "      <th>Month_Year_of_Sale</th>\n",
       "      <th>Year_of_Sale</th>\n",
       "      <th>Year_Built</th>\n",
       "      <th>Year_Remodeled</th>\n",
       "      <th>Heated_Area</th>\n",
       "      <th>Num_Stories</th>\n",
       "      <th>Design_Style</th>\n",
       "      <th>Bath</th>\n",
       "      <th>Utilities</th>\n",
       "      <th>Physical_City</th>\n",
       "      <th>Physical_Zip</th>\n",
       "    </tr>\n",
       "  </thead>\n",
       "  <tbody>\n",
       "    <tr>\n",
       "      <th>0</th>\n",
       "      <td>19</td>\n",
       "      <td>0.21</td>\n",
       "      <td>34500</td>\n",
       "      <td>1/1/1974</td>\n",
       "      <td>January 1974</td>\n",
       "      <td>1974</td>\n",
       "      <td>1964</td>\n",
       "      <td>1964</td>\n",
       "      <td>1828</td>\n",
       "      <td>One Story</td>\n",
       "      <td>Split level</td>\n",
       "      <td>2 Bath</td>\n",
       "      <td>ALL</td>\n",
       "      <td>Raleigh</td>\n",
       "      <td>27610.0</td>\n",
       "    </tr>\n",
       "    <tr>\n",
       "      <th>1</th>\n",
       "      <td>20</td>\n",
       "      <td>0.46</td>\n",
       "      <td>35500</td>\n",
       "      <td>5/18/1983</td>\n",
       "      <td>May 1983</td>\n",
       "      <td>1983</td>\n",
       "      <td>1970</td>\n",
       "      <td>1970</td>\n",
       "      <td>1240</td>\n",
       "      <td>One Story</td>\n",
       "      <td>Conventional</td>\n",
       "      <td>1 Bath</td>\n",
       "      <td>E</td>\n",
       "      <td>Raleigh</td>\n",
       "      <td>27610.0</td>\n",
       "    </tr>\n",
       "    <tr>\n",
       "      <th>2</th>\n",
       "      <td>22</td>\n",
       "      <td>0.46</td>\n",
       "      <td>37500</td>\n",
       "      <td>9/16/2004</td>\n",
       "      <td>September 2004</td>\n",
       "      <td>2004</td>\n",
       "      <td>1900</td>\n",
       "      <td>1900</td>\n",
       "      <td>2261</td>\n",
       "      <td>One Story</td>\n",
       "      <td>Conventional</td>\n",
       "      <td>2 Bath</td>\n",
       "      <td>WSE</td>\n",
       "      <td>Wendell</td>\n",
       "      <td>27591.0</td>\n",
       "    </tr>\n",
       "    <tr>\n",
       "      <th>3</th>\n",
       "      <td>25</td>\n",
       "      <td>0.96</td>\n",
       "      <td>70000</td>\n",
       "      <td>1/1/1971</td>\n",
       "      <td>January 1971</td>\n",
       "      <td>1971</td>\n",
       "      <td>1971</td>\n",
       "      <td>1971</td>\n",
       "      <td>3770</td>\n",
       "      <td>One Story</td>\n",
       "      <td>Conventional</td>\n",
       "      <td>Other</td>\n",
       "      <td>WGE</td>\n",
       "      <td>Raleigh</td>\n",
       "      <td>27613.0</td>\n",
       "    </tr>\n",
       "    <tr>\n",
       "      <th>4</th>\n",
       "      <td>30</td>\n",
       "      <td>0.47</td>\n",
       "      <td>380000</td>\n",
       "      <td>8/12/2015</td>\n",
       "      <td>August 2015</td>\n",
       "      <td>2015</td>\n",
       "      <td>1946</td>\n",
       "      <td>2017</td>\n",
       "      <td>1789</td>\n",
       "      <td>One Story</td>\n",
       "      <td>Conventional</td>\n",
       "      <td>2 Bath</td>\n",
       "      <td>ALL</td>\n",
       "      <td>Raleigh</td>\n",
       "      <td>27607.0</td>\n",
       "    </tr>\n",
       "  </tbody>\n",
       "</table>\n",
       "</div>"
      ],
      "text/plain": [
       "   Real_Estate_Id  Deeded_Acreage  Total_Sale_Price Total_Sale_Date  \\\n",
       "0              19            0.21             34500        1/1/1974   \n",
       "1              20            0.46             35500       5/18/1983   \n",
       "2              22            0.46             37500       9/16/2004   \n",
       "3              25            0.96             70000        1/1/1971   \n",
       "4              30            0.47            380000       8/12/2015   \n",
       "\n",
       "  Month_Year_of_Sale  Year_of_Sale  Year_Built  Year_Remodeled  Heated_Area  \\\n",
       "0       January 1974          1974        1964            1964         1828   \n",
       "1           May 1983          1983        1970            1970         1240   \n",
       "2     September 2004          2004        1900            1900         2261   \n",
       "3       January 1971          1971        1971            1971         3770   \n",
       "4        August 2015          2015        1946            2017         1789   \n",
       "\n",
       "  Num_Stories  Design_Style    Bath Utilities Physical_City  Physical_Zip  \n",
       "0   One Story   Split level  2 Bath       ALL       Raleigh       27610.0  \n",
       "1   One Story  Conventional  1 Bath         E       Raleigh       27610.0  \n",
       "2   One Story  Conventional  2 Bath       WSE       Wendell       27591.0  \n",
       "3   One Story  Conventional   Other       WGE       Raleigh       27613.0  \n",
       "4   One Story  Conventional  2 Bath       ALL       Raleigh       27607.0  "
      ]
     },
     "execution_count": 1,
     "metadata": {},
     "output_type": "execute_result"
    }
   ],
   "source": [
    "import pandas as pd\n",
    "import numpy as np\n",
    "import matplotlib.pyplot as plt\n",
    "\n",
    "# Read in the data from csv\n",
    "data = pd.read_csv(\"data/WakeCountyHousing.csv\")\n",
    "\n",
    "# Look at a little bit of it (looks good)\n",
    "data.head()"
   ]
  },
  {
   "cell_type": "code",
   "execution_count": 2,
   "metadata": {},
   "outputs": [
    {
     "name": "stdout",
     "output_type": "stream",
     "text": [
      "<class 'pandas.core.frame.DataFrame'>\n",
      "RangeIndex: 308292 entries, 0 to 308291\n",
      "Data columns (total 15 columns):\n",
      " #   Column              Non-Null Count   Dtype  \n",
      "---  ------              --------------   -----  \n",
      " 0   Real_Estate_Id      308292 non-null  int64  \n",
      " 1   Deeded_Acreage      308292 non-null  float64\n",
      " 2   Total_Sale_Price    308292 non-null  int64  \n",
      " 3   Total_Sale_Date     308292 non-null  object \n",
      " 4   Month_Year_of_Sale  308292 non-null  object \n",
      " 5   Year_of_Sale        308292 non-null  int64  \n",
      " 6   Year_Built          308292 non-null  int64  \n",
      " 7   Year_Remodeled      308292 non-null  int64  \n",
      " 8   Heated_Area         308292 non-null  int64  \n",
      " 9   Num_Stories         308292 non-null  object \n",
      " 10  Design_Style        308292 non-null  object \n",
      " 11  Bath                308275 non-null  object \n",
      " 12  Utilities           306324 non-null  object \n",
      " 13  Physical_City       308183 non-null  object \n",
      " 14  Physical_Zip        308146 non-null  float64\n",
      "dtypes: float64(2), int64(6), object(7)\n",
      "memory usage: 35.3+ MB\n"
     ]
    }
   ],
   "source": [
    "# Look at some information\n",
    "data.info()"
   ]
  },
  {
   "cell_type": "markdown",
   "metadata": {},
   "source": [
    "## Cleaning the Data\n",
    "In order to clean data, I remove rows that are empty in those areas."
   ]
  },
  {
   "cell_type": "code",
   "execution_count": 3,
   "metadata": {},
   "outputs": [
    {
     "name": "stdout",
     "output_type": "stream",
     "text": [
      "<class 'pandas.core.frame.DataFrame'>\n",
      "Int64Index: 306161 entries, 0 to 308291\n",
      "Data columns (total 15 columns):\n",
      " #   Column              Non-Null Count   Dtype  \n",
      "---  ------              --------------   -----  \n",
      " 0   Real_Estate_Id      306161 non-null  int64  \n",
      " 1   Deeded_Acreage      306161 non-null  float64\n",
      " 2   Total_Sale_Price    306161 non-null  int64  \n",
      " 3   Total_Sale_Date     306161 non-null  object \n",
      " 4   Month_Year_of_Sale  306161 non-null  object \n",
      " 5   Year_of_Sale        306161 non-null  int64  \n",
      " 6   Year_Built          306161 non-null  int64  \n",
      " 7   Year_Remodeled      306161 non-null  int64  \n",
      " 8   Heated_Area         306161 non-null  int64  \n",
      " 9   Num_Stories         306161 non-null  object \n",
      " 10  Design_Style        306161 non-null  object \n",
      " 11  Bath                306161 non-null  object \n",
      " 12  Utilities           306161 non-null  object \n",
      " 13  Physical_City       306161 non-null  object \n",
      " 14  Physical_Zip        306161 non-null  float64\n",
      "dtypes: float64(2), int64(6), object(7)\n",
      "memory usage: 37.4+ MB\n"
     ]
    }
   ],
   "source": [
    "data.dropna(subset=[\"Bath\", \"Utilities\", \"Physical_City\", \"Physical_Zip\"], inplace=True) \n",
    "\n",
    "data.info()"
   ]
  },
  {
   "cell_type": "markdown",
   "metadata": {},
   "source": [
    "## One-Hot Encoding\n",
    "In order to use categorical data (like Design Style), I will One-Hot Encode it."
   ]
  },
  {
   "cell_type": "code",
   "execution_count": 4,
   "metadata": {},
   "outputs": [
    {
     "data": {
      "text/plain": [
       "Design_Style\n",
       "Conventional    230881\n",
       "Townhouse        46347\n",
       "Condo            11276\n",
       "Ranch             7448\n",
       "Split level       7095\n",
       "Split Foyer       2152\n",
       "Contemporary       634\n",
       "Modular            198\n",
       "Log                 79\n",
       "Colonial            30\n",
       "Cape                 8\n",
       "Conversion           6\n",
       "Duplex               4\n",
       "Manuf Multi          3\n",
       "dtype: int64"
      ]
     },
     "execution_count": 4,
     "metadata": {},
     "output_type": "execute_result"
    }
   ],
   "source": [
    "design_style = data[[\"Design_Style\"]]   \n",
    "design_style.value_counts()"
   ]
  },
  {
   "cell_type": "code",
   "execution_count": 5,
   "metadata": {},
   "outputs": [
    {
     "data": {
      "text/plain": [
       "array([[0., 0., 0., ..., 0., 1., 0.],\n",
       "       [0., 0., 0., ..., 0., 0., 0.],\n",
       "       [0., 0., 0., ..., 0., 0., 0.],\n",
       "       ...,\n",
       "       [0., 0., 0., ..., 0., 0., 0.],\n",
       "       [0., 0., 0., ..., 0., 0., 0.],\n",
       "       [0., 0., 0., ..., 0., 0., 0.]])"
      ]
     },
     "execution_count": 5,
     "metadata": {},
     "output_type": "execute_result"
    }
   ],
   "source": [
    "from sklearn.preprocessing import OneHotEncoder\n",
    "\n",
    "one_hot = OneHotEncoder()\n",
    "design_style_one_hot = one_hot.fit_transform(design_style)\n",
    "\n",
    "# Let's turn it into an array using the toarray() method\n",
    "\n",
    "design_style_one_hot.toarray()"
   ]
  },
  {
   "cell_type": "markdown",
   "metadata": {},
   "source": [
    "## Custom Transformer\n",
    "In order to create new attributes, we use a custom transformer."
   ]
  },
  {
   "cell_type": "code",
   "execution_count": 6,
   "metadata": {},
   "outputs": [],
   "source": [
    "# Adding Price per Acre\n",
    "\n",
    "from sklearn.base import BaseEstimator, TransformerMixin\n",
    "\n",
    "TotalAcresIndex, TotalPriceIndex = 1, 2\n"
   ]
  }
 ],
 "metadata": {
  "interpreter": {
   "hash": "949777d72b0d2535278d3dc13498b2535136f6dfe0678499012e853ee9abcab1"
  },
  "kernelspec": {
   "display_name": "Python ('myenv')",
   "language": "python",
   "name": "python3"
  },
  "language_info": {
   "codemirror_mode": {
    "name": "ipython",
    "version": 3
   },
   "file_extension": ".py",
   "mimetype": "text/x-python",
   "name": "python",
   "nbconvert_exporter": "python",
   "pygments_lexer": "ipython3",
   "version": "3.9.7"
  },
  "orig_nbformat": 4
 },
 "nbformat": 4,
 "nbformat_minor": 2
}
